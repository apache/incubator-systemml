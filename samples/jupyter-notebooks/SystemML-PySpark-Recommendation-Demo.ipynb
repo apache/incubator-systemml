{
 "cells": [
  {
   "cell_type": "markdown",
   "metadata": {},
   "source": [
    "# SystemML PySpark Recommendation Demo"
   ]
  },
  {
   "cell_type": "code",
   "execution_count": 1,
   "metadata": {
    "collapsed": false
   },
   "outputs": [],
   "source": [
    "%load_ext autoreload\n",
    "%autoreload 2\n",
    "%matplotlib inline\n",
    "\n",
    "import numpy as np\n",
    "import matplotlib.pyplot as plt\n",
    "plt.rcParams['figure.figsize'] = (10, 6)"
   ]
  },
  {
   "cell_type": "markdown",
   "metadata": {},
   "source": [
    "# Data"
   ]
  },
  {
   "cell_type": "code",
   "execution_count": 2,
   "metadata": {
    "collapsed": false
   },
   "outputs": [
    {
     "name": "stderr",
     "output_type": "stream",
     "text": [
      "  % Total    % Received % Xferd  Average Speed   Time    Time     Time  Current\n",
      "                                 Dload  Upload   Total   Spent    Left  Speed\n",
      "\r",
      "  0     0    0     0    0     0      0      0 --:--:-- --:--:-- --:--:--     0\r",
      "  0 11.2M    0 84190    0     0   198k      0  0:00:58 --:--:--  0:00:58  197k\r",
      "  2 11.2M    2  322k    0     0   197k      0  0:00:58  0:00:01  0:00:57  197k\r",
      "  4 11.2M    4  508k    0     0   191k      0  0:01:00  0:00:02  0:00:58  191k\r",
      "  6 11.2M    6  717k    0     0   195k      0  0:00:59  0:00:03  0:00:56  195k\r",
      "  6 11.2M    6  783k    0     0   178k      0  0:01:04  0:00:04  0:01:00  178k\r",
      "  9 11.2M    9 1086k    0     0   199k      0  0:00:57  0:00:05  0:00:52  199k\r",
      " 11 11.2M   11 1303k    0     0   201k      0  0:00:57  0:00:06  0:00:51  203k\r",
      " 16 11.2M   16 1871k    0     0   247k      0  0:00:46  0:00:07  0:00:39  278k\r",
      " 20 11.2M   20 2349k    0     0   275k      0  0:00:41  0:00:08  0:00:33  336k\r",
      " 26 11.2M   26 3088k    0     0   321k      0  0:00:35  0:00:09  0:00:26  442k\r",
      " 30 11.2M   30 3478k    0     0   330k      0  0:00:34  0:00:10  0:00:24  469k\r",
      " 30 11.2M   30 3547k    0     0   303k      0  0:00:38  0:00:11  0:00:27  429k\r",
      " 31 11.2M   31 3603k    0     0   290k      0  0:00:39  0:00:12  0:00:27  356k\r",
      " 32 11.2M   32 3721k    0     0   277k      0  0:00:41  0:00:13  0:00:28  281k\r",
      " 35 11.2M   35 4068k    0     0   282k      0  0:00:40  0:00:14  0:00:26  204k\r",
      " 36 11.2M   36 4258k    0     0   276k      0  0:00:41  0:00:15  0:00:26  160k\r",
      " 37 11.2M   37 4347k    0     0   283k      0  0:00:40  0:00:15  0:00:25  220k\r",
      " 38 11.2M   38 4408k    0     0   286k      0  0:00:40  0:00:15  0:00:25  268k\r",
      " 40 11.2M   40 4704k    0     0   286k      0  0:00:40  0:00:16  0:00:24  327k\r",
      " 43 11.2M   43 4991k    0     0   286k      0  0:00:40  0:00:17  0:00:23  304k\r",
      " 47 11.2M   47 5533k    0     0   300k      0  0:00:38  0:00:18  0:00:20  421k\r",
      " 49 11.2M   49 5737k    0     0   295k      0  0:00:38  0:00:19  0:00:19  341k\r",
      " 56 11.2M   56 6494k    0     0   318k      0  0:00:36  0:00:20  0:00:16  416k\r",
      " 62 11.2M   62 7165k    0     0   334k      0  0:00:34  0:00:21  0:00:13  487k\r",
      " 62 11.2M   62 7214k    0     0   321k      0  0:00:35  0:00:22  0:00:13  442k\r",
      " 62 11.2M   62 7258k    0     0   308k      0  0:00:37  0:00:23  0:00:14  336k\r",
      " 63 11.2M   63 7280k    0     0   297k      0  0:00:38  0:00:24  0:00:14  306k\r",
      " 63 11.2M   63 7328k    0     0   288k      0  0:00:39  0:00:25  0:00:14  166k\r",
      " 65 11.2M   65 7562k    0     0   286k      0  0:00:40  0:00:26  0:00:14 81753\r",
      " 67 11.2M   67 7745k    0     0   281k      0  0:00:40  0:00:27  0:00:13  104k\r",
      " 67 11.2M   67 7793k    0     0   274k      0  0:00:42  0:00:28  0:00:14  110k\r",
      " 68 11.2M   68 7903k    0     0   266k      0  0:00:43  0:00:29  0:00:14  118k\r",
      " 69 11.2M   69 8028k    0     0   264k      0  0:00:43  0:00:30  0:00:13  140k\r",
      " 72 11.2M   72 8350k    0     0   265k      0  0:00:43  0:00:31  0:00:12  157k\r",
      " 76 11.2M   76 8812k    0     0   271k      0  0:00:42  0:00:32  0:00:10  216k\r",
      " 80 11.2M   80 9229k    0     0   275k      0  0:00:41  0:00:33  0:00:08  279k\r",
      " 82 11.2M   82 9529k    0     0   275k      0  0:00:41  0:00:34  0:00:07  333k\r",
      " 86 11.2M   86 9973k    0     0   280k      0  0:00:41  0:00:35  0:00:06  373k\r",
      " 92 11.2M   92 10.4M    0     0   294k      0  0:00:39  0:00:36  0:00:03  473k\r",
      "100 11.2M  100 11.2M    0     0   308k      0  0:00:37  0:00:37 --:--:--  557k\n"
     ]
    }
   ],
   "source": [
    "%%sh\n",
    "# Download dataset\n",
    "curl -O http://snap.stanford.edu/data/amazon0601.txt.gz\n",
    "gunzip amazon0601.txt.gz"
   ]
  },
  {
   "cell_type": "code",
   "execution_count": 3,
   "metadata": {
    "collapsed": false
   },
   "outputs": [
    {
     "name": "stdout",
     "output_type": "stream",
     "text": [
      "Total number of products: 500\n"
     ]
    }
   ],
   "source": [
    "# Load data\n",
    "import pyspark.sql.functions as F\n",
    "dataPath = \"amazon0601.txt\"\n",
    "\n",
    "X_train = (sc.textFile(dataPath)\n",
    "    .filter(lambda l: not l.startswith(\"#\"))\n",
    "    .map(lambda l: l.split(\"\\t\"))\n",
    "    .map(lambda prods: (int(prods[0]), int(prods[1]), 1.0))\n",
    "    .toDF((\"prod_i\", \"prod_j\", \"x_ij\"))\n",
    "    .filter(\"prod_i < 500 AND prod_j < 500\") # Filter for memory constraints\n",
    "    .cache())\n",
    "\n",
    "max_prod_i = X_train.select(F.max(\"prod_i\")).first()[0]\n",
    "max_prod_j = X_train.select(F.max(\"prod_i\")).first()[0]\n",
    "numProducts = max(max_prod_i, max_prod_j) + 1 # 0-based indexing\n",
    "print(\"Total number of products: {}\".format(numProducts))"
   ]
  },
  {
   "cell_type": "markdown",
   "metadata": {},
   "source": [
    "# SystemML - Poisson Nonnegative Matrix Factorization (PNMF)"
   ]
  },
  {
   "cell_type": "code",
   "execution_count": 4,
   "metadata": {
    "collapsed": true
   },
   "outputs": [],
   "source": [
    "# Create SystemML MLContext\n",
    "from SystemML import MLContext\n",
    "ml = MLContext(sc)"
   ]
  },
  {
   "cell_type": "code",
   "execution_count": 5,
   "metadata": {
    "collapsed": false
   },
   "outputs": [],
   "source": [
    "# Define PNMF kernel in SystemML's DSL using the R-like syntax for PNMF\n",
    "pnmf = \"\"\"\n",
    "# data & args\n",
    "X = read($X)\n",
    "X = X+1 # change product IDs to be 1-based, rather than 0-based\n",
    "V = table(X[,1], X[,2])\n",
    "size = ifdef($size, -1)\n",
    "if(size > -1) {\n",
    "    V = V[1:size,1:size]\n",
    "}\n",
    "max_iteration = as.integer($maxiter)\n",
    "rank = as.integer($rank)\n",
    "\n",
    "n = nrow(V)\n",
    "m = ncol(V)\n",
    "range = 0.01\n",
    "W = Rand(rows=n, cols=rank, min=0, max=range, pdf=\"uniform\")\n",
    "H = Rand(rows=rank, cols=m, min=0, max=range, pdf=\"uniform\")\n",
    "losses = matrix(0, rows=max_iteration, cols=1)\n",
    "\n",
    "# run PNMF\n",
    "i=1\n",
    "while(i <= max_iteration) {\n",
    "  # update params\n",
    "  H = (H * (t(W) %*% (V/(W%*%H))))/t(colSums(W)) \n",
    "  W = (W * ((V/(W%*%H)) %*% t(H)))/t(rowSums(H))\n",
    "  \n",
    "  # compute loss\n",
    "  losses[i,] = -1 * (sum(V*log(W%*%H)) - as.scalar(colSums(W)%*%rowSums(H)))\n",
    "  i = i + 1;\n",
    "}\n",
    "\n",
    "# write outputs\n",
    "write(losses, $lossout)\n",
    "write(W, $Wout)\n",
    "write(H, $Hout)\n",
    "\"\"\""
   ]
  },
  {
   "cell_type": "code",
   "execution_count": 6,
   "metadata": {
    "collapsed": false
   },
   "outputs": [],
   "source": [
    "# Run the PNMF script on SystemML with Spark\n",
    "ml.reset()\n",
    "outputs = ml.executeScript(pnmf, {\"X\": X_train, \"maxiter\": 100, \"rank\": 10}, [\"W\", \"H\", \"losses\"])"
   ]
  },
  {
   "cell_type": "code",
   "execution_count": 7,
   "metadata": {
    "collapsed": false
   },
   "outputs": [
    {
     "data": {
      "text/plain": [
       "<matplotlib.text.Text at 0x1128c8f50>"
      ]
     },
     "execution_count": 7,
     "metadata": {},
     "output_type": "execute_result"
    },
    {
     "data": {
      "image/png": "[encoded data removed]",
      "text/plain": [
       "<matplotlib.figure.Figure at 0x1127e62d0>"
      ]
     },
     "metadata": {},
     "output_type": "display_data"
    }
   ],
   "source": [
    "# Plot training loss over time\n",
    "losses = outputs.getDF(sqlContext, \"losses\")\n",
    "xy = losses.sort(losses.ID).map(lambda r: (r[0], r[1])).collect()\n",
    "x, y = zip(*xy)\n",
    "plt.plot(x, y)\n",
    "plt.xlabel('Iteration')\n",
    "plt.ylabel('Loss')\n",
    "plt.title('PNMF Training Loss')"
   ]
  },
  {
   "cell_type": "code",
   "execution_count": null,
   "metadata": {
    "collapsed": true
   },
   "outputs": [],
   "source": []
  }
 ],
 "metadata": {
  "kernelspec": {
   "display_name": "Python 2",
   "language": "python",
   "name": "python2"
  },
  "language_info": {
   "codemirror_mode": {
    "name": "ipython",
    "version": 2
   },
   "file_extension": ".py",
   "mimetype": "text/x-python",
   "name": "python",
   "nbconvert_exporter": "python",
   "pygments_lexer": "ipython2",
   "version": "2.7.11"
  }
 },
 "nbformat": 4,
 "nbformat_minor": 0
}
