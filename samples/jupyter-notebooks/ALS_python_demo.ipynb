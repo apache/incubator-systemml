{
 "cells": [
  {
   "cell_type": "markdown",
   "metadata": {},
   "source": [
    "## Scaling Alternating Least Squares Using Apache SystemML"
   ]
  },
  {
   "cell_type": "markdown",
   "metadata": {},
   "source": [
    "Recommendation systems based on Alternating Least Squares (ALS) algorithm have gained popularity in recent years because, in general, they perform better as compared to content based approaches.\n",
    "\n",
    "\n",
    "\n",
    "\n"
   ]
  },
  {
   "cell_type": "markdown",
   "metadata": {},
   "source": [
    "ALS is a matrix factorization algorithm, where a user-item matrix is factorized into two low-rank non-orthogonal matrices:\n",
    "\n",
    "$$R = U M$$\n",
    "\n",
    "The elements, $r_{ij}$, of matrix $R$ can represent, for example, ratings assigned to the $j$th movie by the $i$th user.\n",
    "\n",
    "This matrix factorization assumes that each user can be described by $k$ latent features. Similarly, each item/movie can also be represented by $k$ latent features. The user rating of a particular movie can thus be approximated by the product of two $k$-dimensional vectors:\n",
    "\n",
    "$$r_{ij} = {\\bf u}_i^T {\\bf m}_j$$\n",
    "\n",
    "The vectors ${\\bf u}_i$ are rows of $U$ and ${\\bf m}_j$'s are columns of $M$. These can be learned by minimizing the cost function:\n",
    "\n",
    "$$f(U, M) = \\sum_{i,j} \\left( r_{ij} - {\\bf u}_i^T {\\bf m}_j \\right)^2 = \\| R - UM \\|^2$$"
   ]
  },
  {
   "cell_type": "markdown",
   "metadata": {},
   "source": [
    "###  Regularized ALS\n",
    "\n",
    "In this notebook, we'll implement ALS algorithm with _weighted-$\\lambda$-regularization_ formulated by [Zhou _et_. _al_](https://liuxiaofei.com.cn/blog/wp-content/uploads/2014/01/netflix_aaim08submitted.pdf). The cost function with such regularization is:\n",
    "\n",
    "$$f(U, M) = \\sum_{i,j} \\left( r_{ij} - {\\bf u}_i^T {\\bf m}_j I_{ij} \\right)^2 + \\lambda \\left( \\sum_i n_{u_i} \\| {\\bf u}\\|_i^2 + \\sum_j n_{m_j} \\|{\\bf m}\\|_j^2 \\right)$$\n",
    "\n",
    "\n",
    "Here, $\\lambda$ is the usual regularization parameter. $n_{u_i}$ and $n_{m_j}$ represent the number of ratings of user $i$ and movie $j$ respectively. Deviating from the conventional notation, we're using $I_{ij}$ as an indicator variable such that $I_{ij} = 1$ if $r_{ij}$ exists and $I_{ij} = 0$ otherwise."
   ]
  },
  {
   "cell_type": "markdown",
   "metadata": {},
   "source": [
    "If we fix ${\\bf m}_j$, we can determine ${\\bf u}_i$ by solving a regularized least squares problem:\n",
    "\n",
    "$$ \\frac{1}{2} \\frac{\\partial f}{\\partial {\\bf u}_i} = 0$$\n",
    "\n",
    "This gives the following matrix equation:\n",
    "\n",
    "$$\\left(M \\text{diag}({\\bf I}_i^T) M^{T} + \\lambda n_{u_i} E\\right) {\\bf u}_i = M {\\bf r}_i^T$$\n",
    "\n",
    "Here ${\\bf r}_i^T$ is the $i$th row of $R$. Similarly, ${\\bf I}_i$ the $i$th row of the matrix $I = [I_{ij}]$. Please see [Zhou _et_. _al_](https://liuxiaofei.com.cn/blog/wp-content/uploads/2014/01/netflix_aaim08submitted.pdf) for details."
   ]
  },
  {
   "cell_type": "markdown",
   "metadata": {},
   "source": [
    "### Reading Netflix Movie Ratings Data\n",
    "\n",
    "In this example, we'll use Netflix movie ratings. This data set can be downloaded from [here](http://academictorrents.com/details/9b13183dc4d60676b773c9e2cd6de5e5542cee9a). We'll use spark to read movie ratings data into a dataframe. The csv files have four columns: MovieID, UserID, Rating, Date."
   ]
  },
  {
   "cell_type": "code",
   "execution_count": 1,
   "metadata": {
    "collapsed": false
   },
   "outputs": [],
   "source": [
    "from pyspark.sql import SparkSession\n",
    "from pyspark.sql.types import *\n",
    "from systemml import MLContext, dml\n",
    "\n",
    "spark = SparkSession\\\n",
    "        .builder\\\n",
    "        .appName(\"als-example\")\\\n",
    "        .getOrCreate()"
   ]
  },
  {
   "cell_type": "code",
   "execution_count": 2,
   "metadata": {
    "collapsed": true
   },
   "outputs": [],
   "source": [
    "schema = StructType([StructField(\"movieId\", IntegerType(), True),\n",
    "                     StructField(\"userId\", IntegerType(), True),\n",
    "                     StructField(\"rating\", IntegerType(), True),\n",
    "                     StructField(\"date\", StringType(), True)])"
   ]
  },
  {
   "cell_type": "code",
   "execution_count": 3,
   "metadata": {
    "collapsed": false,
    "scrolled": true
   },
   "outputs": [
    {
     "name": "stdout",
     "output_type": "stream",
     "text": [
      "+------+-------+------+\n",
      "|userId|movieId|rating|\n",
      "+------+-------+------+\n",
      "| 53679|   5317|     4|\n",
      "| 29545|   5317|     3|\n",
      "| 41412|   5317|     3|\n",
      "| 28213|   5317|     3|\n",
      "| 30878|   5317|     3|\n",
      "| 56069|   5317|     3|\n",
      "| 49479|   5317|     4|\n",
      "| 42362|   5317|     2|\n",
      "| 43601|   5317|     4|\n",
      "| 45276|   5317|     3|\n",
      "+------+-------+------+\n",
      "only showing top 10 rows\n",
      "\n"
     ]
    }
   ],
   "source": [
    "ratings = spark.read.csv(\"./netflix/training_set_normalized/mv_0*.txt\", schema = schema)\n",
    "ratings = ratings.select('userId', 'movieId', 'rating')\n",
    "ratings.show(10)"
   ]
  },
  {
   "cell_type": "code",
   "execution_count": 4,
   "metadata": {
    "collapsed": false
   },
   "outputs": [
    {
     "name": "stdout",
     "output_type": "stream",
     "text": [
      "+-------+------------------+------------------+------------------+\n",
      "|summary|            userId|           movieId|            rating|\n",
      "+-------+------------------+------------------+------------------+\n",
      "|  count|           2268082|           2268082|           2268082|\n",
      "|   mean|30028.841485008037| 9068.777048625227|3.6134694424628386|\n",
      "| stddev| 17290.49124532639|5131.8304910232055|1.0810520483121464|\n",
      "|    min|                 6|                 1|                 1|\n",
      "|    max|             59999|             17770|                 5|\n",
      "+-------+------------------+------------------+------------------+\n",
      "\n"
     ]
    }
   ],
   "source": [
    "ratings.describe().show()"
   ]
  },
  {
   "cell_type": "markdown",
   "metadata": {},
   "source": [
    "### ALS implementation using DML\n",
    "\n",
    "The following script implements the regularized ALS algorithm as described above. One thing to note here is that we remove empty rows/columns from the rating matrix before running the algorithm. We'll add back the zero rows and columns to matrices $U$ and $M$ after the algorithm converges."
   ]
  },
  {
   "cell_type": "code",
   "execution_count": 5,
   "metadata": {
    "collapsed": false
   },
   "outputs": [],
   "source": [
    "#-----------------------------------------------------------------\n",
    "# Create kernel in SystemML's DSL using the R-like syntax for ALS\n",
    "# Algorithms available at : https://systemml.apache.org/algorithms\n",
    "# Below algorithm based on ALS-CG.dml\n",
    "#-----------------------------------------------------------------\n",
    "als_dml = \\\n",
    "\"\"\"\n",
    "# Default values of some parameters\n",
    "r          = rank\n",
    "max_iter   = 50\n",
    "check      = TRUE\n",
    "thr        = 0.0001\n",
    "\n",
    "R = table(X[,1], X[,2], X[,3])\n",
    "\n",
    "# check the input matrix R, if some rows or columns contain only zeros remove them from R\n",
    "R_nonzero_ind = R != 0;\n",
    "row_nonzeros = rowSums(R_nonzero_ind);\n",
    "col_nonzeros = t(colSums (R_nonzero_ind));\n",
    "orig_nonzero_rows_ind = row_nonzeros != 0;\n",
    "orig_nonzero_cols_ind = col_nonzeros != 0;\n",
    "num_zero_rows = nrow(R) - sum(orig_nonzero_rows_ind);\n",
    "num_zero_cols = ncol(R) - sum(orig_nonzero_cols_ind);\n",
    "if (num_zero_rows > 0) {\n",
    "  print(\"Matrix R contains empty rows! These rows will be removed.\");\n",
    "  R = removeEmpty(target = R, margin = \"rows\");\n",
    "}\n",
    "if (num_zero_cols > 0) {\n",
    "  print (\"Matrix R contains empty columns! These columns will be removed.\");\n",
    "  R = removeEmpty(target = R, margin = \"cols\");\n",
    "}\n",
    "if (num_zero_rows > 0 | num_zero_cols > 0) {\n",
    "  print(\"Recomputing nonzero rows and columns!\");\n",
    "  R_nonzero_ind = R != 0;\n",
    "  row_nonzeros = rowSums(R_nonzero_ind);\n",
    "  col_nonzeros = t(colSums (R_nonzero_ind));\n",
    "}\n",
    "\n",
    "###### MAIN PART ######\n",
    "\n",
    "m = nrow(R);\n",
    "n = ncol(R);\n",
    "\n",
    "# initializing factor matrices\n",
    "U = rand(rows = m, cols = r, min = -0.5, max = 0.5);\n",
    "M = rand(rows = n, cols = r, min = -0.5, max = 0.5);\n",
    "\n",
    "# initializing transformed matrices\n",
    "Rt = t(R);\n",
    "\n",
    "\n",
    "loss_init = 0.0; # only used if check is TRUE\n",
    "if (check) {\n",
    "  loss_init = sum(R_nonzero_ind * (R - (U %*% t(M)))^2) + lambda * (sum((U^2) * row_nonzeros) + sum((M^2) * col_nonzeros));\n",
    "  print(\"----- Initial train loss: \" + loss_init + \" -----\");\n",
    "}\n",
    "\n",
    "lambda_I = diag (matrix (lambda, rows = r, cols = 1));\n",
    "it = 0;\n",
    "converged = FALSE;\n",
    "while ((it < max_iter) & (!converged)) {\n",
    "  it = it + 1;\n",
    "  # keep M fixed and update U\n",
    "  parfor (i in 1:m) {\n",
    "    M_nonzero_ind = t(R[i,] != 0);\n",
    "    M_nonzero = removeEmpty(target=M * M_nonzero_ind, margin=\"rows\");\n",
    "    A1 = (t(M_nonzero) %*% M_nonzero) + (as.scalar(row_nonzeros[i,1]) * lambda_I); # coefficient matrix\n",
    "    U[i,] = t(solve(A1, t(R[i,] %*% M)));\n",
    "  }\n",
    "\n",
    "  # keep U fixed and update M\n",
    "  parfor (j in 1:n) {\n",
    "    U_nonzero_ind = t(Rt[j,] != 0)\n",
    "    U_nonzero = removeEmpty(target=U * U_nonzero_ind, margin=\"rows\");\n",
    "    A2 = (t(U_nonzero) %*% U_nonzero) + (as.scalar(col_nonzeros[j,1]) * lambda_I); # coefficient matrix\n",
    "    M[j,] = t(solve(A2, t(Rt[j,] %*% U)));\n",
    "  }\n",
    "\n",
    "  # check for convergence\n",
    "  if (check) {\n",
    "    loss_cur = sum(R_nonzero_ind * (R - (U %*% t(M)))^2) + lambda * (sum((U^2) * row_nonzeros) + sum((M^2) * col_nonzeros));\n",
    "    loss_dec = (loss_init - loss_cur) / loss_init;\n",
    "    print(\"Train loss at iteration (M) \" + it + \": \" + loss_cur + \" loss-dec \" + loss_dec);\n",
    "    if (loss_dec >= 0 & loss_dec < thr | loss_init == 0) {\n",
    "      print(\"----- ALS converged after \" + it + \" iterations!\");\n",
    "      converged = TRUE;\n",
    "    }\n",
    "    loss_init = loss_cur;\n",
    "    print(loss_init)\n",
    "  }\n",
    "} # end of while loop\n",
    "\n",
    "if (check) {\n",
    "  print(\"----- Final train loss: \" + loss_init + \" -----\");\n",
    "}\n",
    "\n",
    "if (!converged) {\n",
    "  print(\"Max iteration achieved but not converged!\");\n",
    "}\n",
    "\n",
    "# inject 0s in U if original R had empty rows\n",
    "if (num_zero_rows > 0) {\n",
    "  U = removeEmpty(target = diag(orig_nonzero_rows_ind), margin = \"cols\") %*% U;\n",
    "}\n",
    "# inject 0s in R if original V had empty rows\n",
    "if (num_zero_cols > 0) {\n",
    "  M = removeEmpty(target = diag(orig_nonzero_cols_ind), margin = \"cols\") %*% M;\n",
    "}\n",
    "M = t(M);\n",
    "\"\"\""
   ]
  },
  {
   "cell_type": "markdown",
   "metadata": {},
   "source": [
    "### Running the Algorithm\n",
    "\n",
    "We'll first create an MLContext object which the entry point for SystemML. Inputs and outputs are defined through a dml function."
   ]
  },
  {
   "cell_type": "code",
   "execution_count": 6,
   "metadata": {
    "collapsed": false
   },
   "outputs": [],
   "source": [
    "ml = MLContext(sc)\n",
    "\n",
    "# Define input/output variables for DML script\n",
    "alsScript = dml(als_dml).input(\"X\", ratings)        \\\n",
    "                        .input(\"lambda\", 0.1)       \\\n",
    "                        .input(\"rank\", 15)          \\\n",
    "                        .output(\"U\", \"M\")\n",
    "            \n",
    "# Execute script\n",
    "res = ml.execute(alsScript)\n",
    "U, M = res.get('U','M')"
   ]
  },
  {
   "cell_type": "markdown",
   "metadata": {},
   "source": [
    "### Predictions\n",
    "\n",
    "\n",
    "Once $U$ and $M$ are learned from the data, we can recommend movies for any users. If $U'$ represent the users for which we seek recommendations, we first obtain the predicted ratings for all the movies by users in $U'$:\n",
    "\n",
    "$$R' = U' M$$\n",
    "\n",
    "Finally, we sort the ratings for each user and present the top 5 movies with highest predicted ratings. The following dml script implements this. Since we're using very low rank in this example, these recommendations are not meaningful."
   ]
  },
  {
   "cell_type": "code",
   "execution_count": 7,
   "metadata": {
    "collapsed": false
   },
   "outputs": [],
   "source": [
    "predict_dml = \\\n",
    "\"\"\"\n",
    "R = table(R[,1], R[,2], R[,3])\n",
    "K = 5\n",
    "Rrows = nrow(R);\n",
    "Rcols = ncol(R);\n",
    "\n",
    "zero_cols_ind = (colSums(M != 0)) == 0;\n",
    "K = min(Vcols - sum(zero_cols_ind), K);\n",
    "\n",
    "n = nrow(X);\n",
    "\n",
    "Urows = nrow(U);\n",
    "Mcols = ncol(M);\n",
    "\n",
    "X_user_max = max(X[,1]);\n",
    "\n",
    "if (X_user_max > Rrows) {\n",
    "\tstop(\"Predictions cannot be provided. Maximum user-id exceeds the number of rows of R.\");\n",
    "}\n",
    "if (Urows != Rrows | Mcols !=  Rcols) {\n",
    "\tstop(\"Number of rows of U (columns of M) does not match the number of rows (column) of R.\");\n",
    "}\n",
    "\n",
    "# creats projection matrix to select users\n",
    "s = seq(1, n);\n",
    "ones = matrix(1, rows = n, cols = 1);\n",
    "P = table(s, X[,1], ones, n, Urows);\n",
    "\n",
    "\n",
    "# selects users from factor U\n",
    "U_prime = P %*% U;\n",
    "\n",
    "# calculate rating matrix for selected users\n",
    "R_prime = U_prime %*% M;\n",
    "\n",
    "# selects users from original R\n",
    "R_users = P %*% R;\n",
    "\n",
    "# create indictor matrix to remove existing ratings for given users\n",
    "I = R_users == 0;\n",
    "\n",
    "# removes already recommended items and creating user2item matrix\n",
    "R_prime = R_prime * I;\n",
    "\n",
    "# stores sorted movies for selected users \n",
    "R_top_indices = matrix(0, rows = nrow (R_prime), cols = K);\n",
    "R_top_values = matrix(0, rows = nrow (R_prime), cols = K);\n",
    "\n",
    "# a large number to mask the max ratings\n",
    "range = max(R_prime) - min(R_prime) + 1;\n",
    "\n",
    "# uses rowIndexMax/rowMaxs to update kth ratings\n",
    "for (i in 1:K){\n",
    "\trowIndexMax = rowIndexMax(R_prime);\n",
    "\trowMaxs = rowMaxs(R_prime);\n",
    "\tR_top_indices[,i] = rowIndexMax;\n",
    "\tR_top_values[,i] = rowMaxs;\n",
    "\tR_prime = R_prime - range * table(seq (1, nrow(R_prime), 1), rowIndexMax, nrow(R_prime), ncol(R_prime));\n",
    "}\n",
    "\n",
    "R_top_indices = R_top_indices * (R_top_values > 0);\n",
    "\n",
    "# cbind users as a first column\n",
    "R_top_indices = cbind(X[,1], R_top_indices);\n",
    "R_top_values = cbind(X[,1], R_top_values);\n",
    "\"\"\""
   ]
  },
  {
   "cell_type": "code",
   "execution_count": 8,
   "metadata": {
    "collapsed": false
   },
   "outputs": [],
   "source": [
    "# user for which we want to recommend movies\n",
    "ids = [53679,29545,41412,28213,30878,56069,49479,42362,43601,45276]\n",
    "users = spark.createDataFrame([[i] for i in ids])\n",
    "\n",
    "predScript = dml(predict_dml).input(\"R\", ratings)  \\\n",
    "                             .input(\"X\", users)    \\\n",
    "                             .input(\"U\", U)        \\\n",
    "                             .input(\"M\", M)        \\\n",
    "                             .output(\"R_top_indices\")\n",
    "\n",
    "pred = ml.execute(predScript).get(\"R_top_indices\")\n",
    "\n",
    "pred = pred.toNumPy()"
   ]
  },
  {
   "cell_type": "markdown",
   "metadata": {},
   "source": [
    "### Just for Fun!\n",
    "\n",
    "Once we have the movie recommendations, we can show the movie posters for those recommendations. We'll fetch these movie poster from wikipedia. If movie page doesn't exist on wikipedia, we'll just list the movie title."
   ]
  },
  {
   "cell_type": "code",
   "execution_count": 9,
   "metadata": {
    "collapsed": true
   },
   "outputs": [],
   "source": [
    "import pandas as pd\n",
    "titles = pd.read_csv(\"./netflix/movie_titles.csv\", header=None, sep=';', names=['movieID', 'year', 'title'])"
   ]
  },
  {
   "cell_type": "code",
   "execution_count": 10,
   "metadata": {
    "collapsed": true
   },
   "outputs": [],
   "source": [
    "import re\n",
    "import wikipedia as wiki\n",
    "from bs4 import BeautifulSoup as bs\n",
    "import requests as rq\n",
    "from IPython.core.display import Image, display"
   ]
  },
  {
   "cell_type": "code",
   "execution_count": 11,
   "metadata": {
    "collapsed": true
   },
   "outputs": [],
   "source": [
    "def get_poster(title):\n",
    "    if title.endswith('Bonus Material'):\n",
    "        title = title.strip('Bonus Material')\n",
    "        \n",
    "    title = re.sub(r'[^\\w\\s]','',title)\n",
    "    matches = wiki.search(title)\n",
    "    film = [s for s in matches if 'film)' in s]\n",
    "    film = film[0] if len(film) > 0 else matches[0]\n",
    "\n",
    "    try:\n",
    "        url = wiki.page(film).url\n",
    "    except:\n",
    "        return\n",
    "\n",
    "    html = rq.get(url)\n",
    "    if html.status_code == 200:\n",
    "        soup = bs(html.content, 'html.parser')\n",
    "        infobox = soup.find('table', class_=\"infobox\")\n",
    "        if (infobox):\n",
    "            img = infobox.find('img')\n",
    "            if img:\n",
    "                display(Image('http:' + img['src']))"
   ]
  },
  {
   "cell_type": "code",
   "execution_count": 12,
   "metadata": {
    "collapsed": false
   },
   "outputs": [],
   "source": [
    "def show_recommendations(userId, preds):\n",
    "    for row in preds:\n",
    "        if int(row[0]) == userId:\n",
    "            print(\"\\nrecommendations for userId\", int(row[0]) )\n",
    "            for title in titles.title[row[1:]].values:\n",
    "                print(title)\n",
    "                get_poster(title)\n",
    "            break"
   ]
  },
  {
   "cell_type": "code",
   "execution_count": 13,
   "metadata": {
    "collapsed": false
   },
   "outputs": [
    {
     "name": "stdout",
     "output_type": "stream",
     "text": [
      "\n",
      "recommendations for userId 41412\n",
      "Call of the Wild\n"
     ]
    },
    {
     "data": {
      "image/jpeg": "[encoded data removed]",
      "text/plain": [
       "<IPython.core.display.Image object>"
      ]
     },
     "metadata": {},
     "output_type": "display_data"
    },
    {
     "name": "stdout",
     "output_type": "stream",
     "text": [
      "Colors Straight Up\n"
     ]
    },
    {
     "data": {
      "image/jpeg": "[encoded data removed]",
      "text/plain": [
       "<IPython.core.display.Image object>"
      ]
     },
     "metadata": {},
     "output_type": "display_data"
    },
    {
     "name": "stdout",
     "output_type": "stream",
     "text": [
      "The Jack Paar Collection\n",
      "The Color of Money\n"
     ]
    },
    {
     "data": {
      "image/jpeg": "[encoded data removed]",
      "text/plain": [
       "<IPython.core.display.Image object>"
      ]
     },
     "metadata": {},
     "output_type": "display_data"
    },
    {
     "name": "stdout",
     "output_type": "stream",
     "text": [
      "Don Juan De Marco\n"
     ]
    }
   ],
   "source": [
    "show_recommendations(41412, preds=pred)"
   ]
  },
  {
   "cell_type": "code",
   "execution_count": null,
   "metadata": {
    "collapsed": true
   },
   "outputs": [],
   "source": []
  }
 ],
 "metadata": {
  "anaconda-cloud": {},
  "kernelspec": {
   "display_name": "Python [default]",
   "language": "python",
   "name": "python3"
  },
  "language_info": {
   "codemirror_mode": {
    "name": "ipython",
    "version": 3
   },
   "file_extension": ".py",
   "mimetype": "text/x-python",
   "name": "python",
   "nbconvert_exporter": "python",
   "pygments_lexer": "ipython3",
   "version": "3.5.2"
  }
 },
 "nbformat": 4,
 "nbformat_minor": 2
}
