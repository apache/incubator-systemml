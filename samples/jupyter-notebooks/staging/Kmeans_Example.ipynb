{
 "cells": [
  {
   "cell_type": "markdown",
   "metadata": {},
   "source": [
    "# Kmeans Algorithms using Apache SystemML\n",
    "\n",
    "This notebook shows:\n",
    "- Install SystemML Python package and jar file\n",
    "  - pip\n",
    "- Example 1: Market Segmentation\n",
    "  - SystemML script to generate a random matrix, perform matrix multiplication, and compute the sum of the output\n",
    "  - Examine execution plans, and increase data size to obverve changed execution plans\n",
    "- Example 2: Color Palette/theme generator Using Kmeans"
   ]
  },
  {
   "cell_type": "markdown",
   "metadata": {},
   "source": [
    "### This notebook is supported with SystemML 0.14.0 and above."
   ]
  },
  {
   "cell_type": "code",
   "execution_count": 1,
   "metadata": {},
   "outputs": [
    {
     "name": "stdout",
     "output_type": "stream",
     "text": [
      "Name: systemml\r\n",
      "Version: 1.0.0\r\n",
      "Summary: Apache SystemML is a distributed and declarative machine learning platform.\r\n",
      "Home-page: http://systemml.apache.org/\r\n",
      "Author: Apache SystemML\r\n",
      "Author-email: dev@systemml.apache.org\r\n",
      "License: Apache 2.0\r\n",
      "Location: /Users/stc/anaconda3/lib/python3.6/site-packages\r\n",
      "Requires: scipy, pandas, numpy, Pillow\r\n"
     ]
    }
   ],
   "source": [
    "!pip show systemml"
   ]
  },
  {
   "cell_type": "markdown",
   "metadata": {},
   "source": [
    "### Import SystemML API"
   ]
  },
  {
   "cell_type": "code",
   "execution_count": 1,
   "metadata": {},
   "outputs": [
    {
     "name": "stdout",
     "output_type": "stream",
     "text": [
      "Spark Version:2.1.1\n",
      "SystemML Version:1.0.0-SNAPSHOT\n",
      "SystemML Built-Time:2017-08-02 18:14:50 UTC\n"
     ]
    }
   ],
   "source": [
    "# Create SystemML MLContext\n",
    "from systemml import MLContext, dml  # pip install systeml\n",
    "\n",
    "ml = MLContext(sc)\n",
    "\n",
    "\n",
    "print (\"Spark Version:\" + sc.version)\n",
    "print (\"SystemML Version:\" + ml.version())\n",
    "print (\"SystemML Built-Time:\"+ ml.buildTime())"
   ]
  },
  {
   "cell_type": "markdown",
   "metadata": {},
   "source": [
    "### Import numpy and define some helper functions"
   ]
  },
  {
   "cell_type": "code",
   "execution_count": 2,
   "metadata": {
    "collapsed": true
   },
   "outputs": [],
   "source": [
    "import numpy as np\n",
    "import matplotlib.pyplot as plt\n",
    "from numpy import genfromtxt\n"
   ]
  },
  {
   "cell_type": "markdown",
   "metadata": {},
   "source": [
    "# Example 1: Market Segmentation Using Kmeans"
   ]
  },
  {
   "cell_type": "markdown",
   "metadata": {},
   "source": [
    "\\begin{equation}\n",
    "J = \\sum_{n=1}^{N} \\sum_{k=1}^{K} r_{nk} ||x_n - \\mu_k||^2\n",
    "\\label{eqn:kmeans_objective_function}\n",
    "\\end{equation}"
   ]
  },
  {
   "cell_type": "markdown",
   "metadata": {},
   "source": [
    "### Generate 2-D data which simulates pants sizes for women customers"
   ]
  },
  {
   "cell_type": "code",
   "execution_count": 10,
   "metadata": {},
   "outputs": [
    {
     "data": {
      "text/plain": [
       "(180, 2)"
      ]
     },
     "execution_count": 10,
     "metadata": {},
     "output_type": "execute_result"
    }
   ],
   "source": [
    "small = np.random.randn(30, 2) + 25\n",
    "medium = np.random.randn(50, 2)+ 20\n",
    "large = np.random.randn(100, 2) + 28\n",
    "pants = np.vstack([small, medium, large])\n",
    "pants.shape"
   ]
  },
  {
   "cell_type": "markdown",
   "metadata": {},
   "source": [
    "### Initialization for Kmeans Algorithm"
   ]
  },
  {
   "cell_type": "code",
   "execution_count": 11,
   "metadata": {
    "collapsed": true
   },
   "outputs": [],
   "source": [
    "initial = np.array([[20,20],[25,25],[30,30]])"
   ]
  },
  {
   "cell_type": "markdown",
   "metadata": {},
   "source": [
    "### SystemML script to perform Kmeans Algorithm using just Lloyd's method alone\n",
    "#### The user should pass initial starting points for k number of clusters as a matrix/numpy array\n",
    "#### The user should also pass the data to the algorithm"
   ]
  },
  {
   "cell_type": "code",
   "execution_count": 12,
   "metadata": {
    "collapsed": true
   },
   "outputs": [],
   "source": [
    "script_kmeans = '''\n",
    "    source(\"/Users/stc/Desktop/systemml/scripts/algorithms/Kmeans-functional.dml\") as km\n",
    "    [centroid, assignments] = km::lloyd_iteration(data,initial_centers)\n",
    "'''\n",
    "out = ('centroid','assignments')\n",
    "prog = (dml(script_kmeans).input(data =pants,initial_centers = initial).output(*out))\n",
    "\n",
    "centroid, assignments = ml.execute(prog).get(*out)"
   ]
  },
  {
   "cell_type": "markdown",
   "metadata": {},
   "source": [
    "### SystemML script to perform Kmeans Algorithm \n",
    "#### The user should pass data, k number of clusters, initialization type, and number of restarts to kmeans_cluster function\n",
    "#### Initilization types: 1- random, 2- kmeans++, 3- first 1:k"
   ]
  },
  {
   "cell_type": "code",
   "execution_count": 9,
   "metadata": {
    "collapsed": true
   },
   "outputs": [],
   "source": [
    "script_kmeans = '''\n",
    "    source(\"/Users/stc/Desktop/systemml/scripts/algorithms/Kmeans-functional.dml\") as km\n",
    "    [centroid, assignments, objective] = km::kmeans_cluster(data, k, init_type, num_restarts)\n",
    "'''\n",
    "out = ('centroid','assignments','objective')\n",
    "prog = (dml(script_kmeans).input(data =pants,k = 3, init_type = 2,num_restarts = 100).output(*out))\n",
    "\n",
    "centroid, assignments, objective = ml.execute(prog).get(*out)"
   ]
  },
  {
   "cell_type": "markdown",
   "metadata": {},
   "source": [
    "#### The Kmeans Algorithm will return the dimensions/coordinates for each cluster k and the cluster assignment for each example i."
   ]
  },
  {
   "cell_type": "code",
   "execution_count": 15,
   "metadata": {},
   "outputs": [
    {
     "name": "stdout",
     "output_type": "stream",
     "text": [
      "[[ 20.29791476  19.96619372]\n",
      " [ 24.83837345  25.05722454]\n",
      " [ 28.15261025  28.05126734]]\n"
     ]
    },
    {
     "data": {
      "text/plain": [
       "(3, 2)"
      ]
     },
     "execution_count": 15,
     "metadata": {},
     "output_type": "execute_result"
    }
   ],
   "source": [
    "data = centroid.toNumPy()\n",
    "example_assignments = assignments.toNumPy()\n",
    "print(data)\n",
    "#print(\"-----------------------------------------\")\n",
    "#print(np.hstack([example_assignments,pants]))\n",
    "\n",
    "color= ['red' if a == 1 else 'green' if a == 2 else 'blue' for a in example_assignments]\n",
    "#color\n",
    "data.shape"
   ]
  },
  {
   "cell_type": "markdown",
   "metadata": {},
   "source": [
    "#### Visualization for of raw data and centroids for each cluster. Rather than making custom pants sizes, the company can manufacture pants sizes with the returned cluster centroids where each size can then be Small, Medium, and Large."
   ]
  },
  {
   "cell_type": "code",
   "execution_count": 14,
   "metadata": {},
   "outputs": [
    {
     "data": {
      "image/png": "[encoded data removed]",
      "text/plain": [
       "<matplotlib.figure.Figure at 0x119bf7550>"
      ]
     },
     "metadata": {},
     "output_type": "display_data"
    }
   ],
   "source": [
    "plt.plot(data[:,0],data[:,1],'ko')\n",
    "\n",
    "\n",
    "plt.scatter(pants[:,0], pants[:,1], s=100, c =color)\n",
    "plt.xlabel('Pants Length (in.)')\n",
    "plt.ylabel('Pants Width (in.)')\n",
    "plt.title('Width v. Length')\n",
    "plt.show()"
   ]
  },
  {
   "cell_type": "markdown",
   "metadata": {
    "collapsed": true
   },
   "source": [
    "# Example 2: Color Palette/theme generator Using Kmeans"
   ]
  },
  {
   "cell_type": "markdown",
   "metadata": {},
   "source": [
    "### Import helper packages and grab an image"
   ]
  },
  {
   "cell_type": "code",
   "execution_count": 59,
   "metadata": {
    "collapsed": true
   },
   "outputs": [],
   "source": [
    "from PIL import Image\n",
    "im = Image.open('/Users/stc/Pictures/paletteR4.jpg')"
   ]
  },
  {
   "cell_type": "markdown",
   "metadata": {},
   "source": [
    "### Display the image"
   ]
  },
  {
   "cell_type": "code",
   "execution_count": 12,
   "metadata": {
    "collapsed": true
   },
   "outputs": [],
   "source": [
    "im.show()"
   ]
  },
  {
   "cell_type": "markdown",
   "metadata": {},
   "source": [
    "### Convert image to a list with RGB values"
   ]
  },
  {
   "cell_type": "code",
   "execution_count": 60,
   "metadata": {
    "collapsed": true
   },
   "outputs": [],
   "source": [
    "pixels = list(im.getdata())"
   ]
  },
  {
   "cell_type": "markdown",
   "metadata": {},
   "source": [
    "### Convert list to numpy array and do any data preprocessing"
   ]
  },
  {
   "cell_type": "code",
   "execution_count": 61,
   "metadata": {},
   "outputs": [
    {
     "name": "stdout",
     "output_type": "stream",
     "text": [
      "(247950, 3)\n"
     ]
    }
   ],
   "source": [
    "pixels = np.asarray(pixels)\n",
    "#print(pixels.shape)\n",
    "\n",
    "#pixels = pixels[0:2700]\n",
    "print(pixels.shape)\n",
    "pixels = pixels[~np.isnan(pixels).any(axis=1)]\n",
    "#print(pixels)"
   ]
  },
  {
   "cell_type": "code",
   "execution_count": 47,
   "metadata": {
    "collapsed": true
   },
   "outputs": [],
   "source": [
    "initial = np.array([[100,100,100],\n",
    "                    [122,124,124],\n",
    "                    [200,200,200]])"
   ]
  },
  {
   "cell_type": "code",
   "execution_count": 48,
   "metadata": {
    "collapsed": true
   },
   "outputs": [],
   "source": [
    "script_kmeans = '''\n",
    "    source(\"/Users/stc/Desktop/systemml/scripts/algorithms/Kmeans-functional.dml\") as km\n",
    "    [centroid, assignments] = km::lloyd_iteration(data,initial_centers)\n",
    "'''\n",
    "out = ('centroid','assignments')\n",
    "prog = (dml(script_kmeans).input(data =pixels,initial_centers = initial).output(*out))\n",
    "\n",
    "centroid, assignments = ml.execute(prog).get(*out)"
   ]
  },
  {
   "cell_type": "code",
   "execution_count": null,
   "metadata": {
    "collapsed": true
   },
   "outputs": [],
   "source": [
    "script_kmeans = '''\n",
    "    source(\"/Users/stc/Desktop/systemml/scripts/algorithms/Kmeans-functional.dml\") as km\n",
    "    [centroid, assignments, objective] = km::kmeans_cluster(data, k, init_type, num_restarts)\n",
    "'''\n",
    "out = ('centroid','assignments','objective')\n",
    "prog = (dml(script_kmeans).input(data =pixels,k = 20, init_type = 2,num_restarts = 1).output(*out))\n",
    "\n",
    "centroid, assignments, objective = ml.execute(prog).get(*out)"
   ]
  },
  {
   "cell_type": "code",
   "execution_count": 53,
   "metadata": {},
   "outputs": [
    {
     "name": "stdout",
     "output_type": "stream",
     "text": [
      "[[ 109.31736527   96.19760479   81.25149701]\n",
      " [ 131.89247312  100.34408602   80.16129032]\n",
      " [ 114.85915493  107.18309859   93.47887324]\n",
      " [ 103.52631579   87.22105263   71.06315789]\n",
      " [ 163.54644809  131.83060109  111.30601093]\n",
      " [ 135.45695364  123.8013245   112.49668874]\n",
      " [ 118.54074074   89.88888889   70.6962963 ]\n",
      " [ 137.98843931  115.86705202   99.16184971]\n",
      " [ 150.91616766  118.83832335   96.43712575]\n",
      " [ 127.70618557  108.6185567    93.21134021]\n",
      " [ 146.44247788  125.90265487  110.0619469 ]\n",
      " [ 148.42647059  135.86764706  124.30882353]\n",
      " [ 126.36781609  115.66666667  103.54022989]\n",
      " [ 119.7287234   100.48404255   84.70212766]\n",
      " [ 177.11578947  148.13684211  127.02105263]\n",
      " [ 105.10958904   78.49315068   57.69863014]\n",
      " [ 188.56097561  162.17073171  141.75609756]\n",
      " [ 141.40740741  109.82407407   88.01851852]\n",
      " [ 157.34883721  125.68604651  104.58139535]\n",
      " [ 169.7202381   139.32738095  118.75      ]]\n",
      "[[ 10.]\n",
      " [ 19.]\n",
      " [ 20.]\n",
      " ..., \n",
      " [  2.]\n",
      " [  7.]\n",
      " [ 18.]]\n"
     ]
    }
   ],
   "source": [
    "data2 = centroid.toNumPy()\n",
    "example_assignments2 = assignments.toNumPy()\n",
    "print(data2)\n",
    "print(example_assignments2)"
   ]
  },
  {
   "cell_type": "code",
   "execution_count": 54,
   "metadata": {},
   "outputs": [
    {
     "name": "stdout",
     "output_type": "stream",
     "text": [
      "[[109  96  81]\n",
      " [132 100  80]\n",
      " [115 107  93]\n",
      " [104  87  71]\n",
      " [164 132 111]\n",
      " [135 124 112]\n",
      " [119  90  71]\n",
      " [138 116  99]\n",
      " [151 119  96]\n",
      " [128 109  93]\n",
      " [146 126 110]\n",
      " [148 136 124]\n",
      " [126 116 104]\n",
      " [120 100  85]\n",
      " [177 148 127]\n",
      " [105  78  58]\n",
      " [189 162 142]\n",
      " [141 110  88]\n",
      " [157 126 105]\n",
      " [170 139 119]]\n"
     ]
    }
   ],
   "source": [
    "data2 = np.round(data2)\n",
    "data2 =data2.astype(int)\n",
    "print(data2)\n"
   ]
  },
  {
   "cell_type": "code",
   "execution_count": 55,
   "metadata": {},
   "outputs": [],
   "source": [
    "from PIL import Image, ImageFont, ImageDraw\n",
    "width = 500\n",
    "height = 400\n",
    "im = Image.new('RGB', (width,height), (255,255,0))\n",
    "dr = ImageDraw.Draw(im)\n",
    "\n",
    "data2 = tuple(map(tuple,data2))\n",
    "\n",
    "\n",
    "#print(data2)\n",
    "i = 0\n",
    "x0 = 0\n",
    "y0 = 0\n",
    "x1 = 100\n",
    "y1 = 100\n",
    "shift = 100\n",
    "for row in data2:\n",
    "    box_color = ('#%02x%02x%02x' % row)\n",
    "    dr.rectangle(((x0,y0),(x1,y1)), fill=box_color, outline = \"black\")\n",
    "    x0 += shift\n",
    "    y0 += 0\n",
    "    x1 += shift\n",
    "    y1 += 0\n",
    "    #print(\"i: \",i, \" x: \",x,\" y \",y, \" box color \", box_color)\n",
    "    i+=1\n",
    "    if(x0==width):\n",
    "        x0 = 0\n",
    "        x1 =100\n",
    "        y0 = y0+100\n",
    "        y1 = y1 +100\n",
    "    \n",
    "\n",
    "im.show()"
   ]
  }
 ],
 "metadata": {
  "kernelspec": {
   "display_name": "Python 3",
   "language": "python",
   "name": "python3"
  },
  "language_info": {
   "codemirror_mode": {
    "name": "ipython",
    "version": 3
   },
   "file_extension": ".py",
   "mimetype": "text/x-python",
   "name": "python",
   "nbconvert_exporter": "python",
   "pygments_lexer": "ipython3",
   "version": "3.6.1"
  }
 },
 "nbformat": 4,
 "nbformat_minor": 2
}
